{
 "cells": [
  {
   "cell_type": "markdown",
   "metadata": {},
   "source": [
    "# TV Script Generation\n",
    "Neste projeto, você gerará seus próprios [Simpsons](https://en.wikipedia.org/wiki/The_Simpsons) Scripts de TV usando RNNs. Você estará usando parte do [Simpsons dataset](https://www.kaggle.com/wcukierski/the-simpsons-by-the-data) ode scripts de 27 temporadas. A Rede Neural que você irá construir irá gerar um novo roteiro de TV para uma cena na [Taverna do Moe](https://simpsonswiki.com/wiki/Moe's_Tavern).\n",
    "## Get the Data\n",
    "Os dados já são fornecidos para você. Você estará usando um subconjunto do conjunto de dados original. Consiste apenas nas cenas da Taverna de Moe. Isso não inclui outras versões da taverna, como \"Moe's Cavern\", \"Flame Moe's\", \"Uncle Moe's Family Feed-Bag\", etc."
   ]
  },
  {
   "cell_type": "code",
   "execution_count": 1,
   "metadata": {},
   "outputs": [],
   "source": [
    "\"\"\"\n",
    "DON'T MODIFY ANYTHING IN THIS CELL\n",
    "\"\"\"\n",
    "import helper\n",
    "\n",
    "data_dir = './data/simpsons/moes_tavern_lines.txt'\n",
    "text = helper.load_data(data_dir)\n",
    "# Ignore notice, since we don't use it for analysing the data\n",
    "text = text[81:]"
   ]
  },
  {
   "cell_type": "markdown",
   "metadata": {},
   "source": [
    "## Exploração dos dados\n",
    "Brinque com `view_sentence_range` para ver diferentes partes dos dados."
   ]
  },
  {
   "cell_type": "code",
   "execution_count": 2,
   "metadata": {},
   "outputs": [
    {
     "name": "stdout",
     "output_type": "stream",
     "text": [
      "Dataset Stats\n",
      "Roughly the number of unique words: 11492\n",
      "Number of scenes: 262\n",
      "Average number of sentences in each scene: 15.251908396946565\n",
      "Number of lines: 4258\n",
      "Average number of words in each line: 11.50164396430249\n",
      "\n",
      "The sentences 0 to 10:\n",
      "\n",
      "Moe_Szyslak: (INTO PHONE) Moe's Tavern. Where the elite meet to drink.\n",
      "Bart_Simpson: Eh, yeah, hello, is Mike there? Last name, Rotch.\n",
      "Moe_Szyslak: (INTO PHONE) Hold on, I'll check. (TO BARFLIES) Mike Rotch. Mike Rotch. Hey, has anybody seen Mike Rotch, lately?\n",
      "Moe_Szyslak: (INTO PHONE) Listen you little puke. One of these days I'm gonna catch you, and I'm gonna carve my name on your back with an ice pick.\n",
      "Moe_Szyslak: What's the matter Homer? You're not your normal effervescent self.\n",
      "Homer_Simpson: I got my problems, Moe. Give me another one.\n",
      "Moe_Szyslak: Homer, hey, you should not drink to forget your problems.\n",
      "Barney_Gumble: Yeah, you should only drink to enhance your social skills.\n",
      "\n"
     ]
    }
   ],
   "source": [
    "view_sentence_range = (0, 10)\n",
    "\n",
    "\"\"\"\n",
    "DON'T MODIFY ANYTHING IN THIS CELL\n",
    "\"\"\"\n",
    "import numpy as np\n",
    "\n",
    "print('Dataset Stats')\n",
    "print('Roughly the number of unique words: {}'.format(len({word: None for word in text.split()})))\n",
    "scenes = text.split('\\n\\n')\n",
    "print('Number of scenes: {}'.format(len(scenes)))\n",
    "sentence_count_scene = [scene.count('\\n') for scene in scenes]\n",
    "print('Average number of sentences in each scene: {}'.format(np.average(sentence_count_scene)))\n",
    "\n",
    "sentences = [sentence for scene in scenes for sentence in scene.split('\\n')]\n",
    "print('Number of lines: {}'.format(len(sentences)))\n",
    "word_count_sentence = [len(sentence.split()) for sentence in sentences]\n",
    "print('Average number of words in each line: {}'.format(np.average(word_count_sentence)))\n",
    "\n",
    "print()\n",
    "print('The sentences {} to {}:'.format(*view_sentence_range))\n",
    "print('\\n'.join(text.split('\\n')[view_sentence_range[0]:view_sentence_range[1]]))"
   ]
  },
  {
   "cell_type": "markdown",
   "metadata": {},
   "source": [
    "## Implementar funções de pré-processamento\n",
    "A primeira coisa a fazer em qualquer conjunto de dados é o pré-processamento. Implemente as seguintes funções de pré-processamento abaixo:\n",
    "- Tabela de pesquisa\n",
    "- Tokenize Punctuation\n",
    "\n",
    "### Tabela de pesquisa\n",
    "Para criar uma incorporação de palavras, primeiro você precisa transformar as palavras em ids. Nesta função, crie dois dicionários:\n",
    "- Dicionário para ir das palavras para um id, vamos chamar `vocab_to_int`\n",
    "- Dicionário para ir do id para a palavra, vamos chamar `int_to_vocab`\n",
    "\n",
    "Devolve estes dicionários na seguinte tupla `(vocab_to_int, int_to_vocab)`"
   ]
  },
  {
   "cell_type": "code",
   "execution_count": 3,
   "metadata": {},
   "outputs": [
    {
     "name": "stdout",
     "output_type": "stream",
     "text": [
      "Tests Passed\n"
     ]
    }
   ],
   "source": [
    "import numpy as np\n",
    "import problem_unittests as tests\n",
    "\n",
    "def create_lookup_tables(text):\n",
    "    \"\"\"\n",
    "    Create lookup tables for vocabulary\n",
    "    :param text: The text of tv scripts split into words\n",
    "    :return: A tuple of dicts (vocab_to_int, int_to_vocab)\n",
    "    \"\"\"\n",
    "    # TODO: Implement Function\n",
    "    vocab = set(text)\n",
    "    # Use comprenhension lists to build our dictionaries.\n",
    "    vocab_to_int = {word:idx for idx, word in enumerate(vocab)}\n",
    "    int_to_vocab = {idx:word for idx, word in enumerate(vocab)}\n",
    "    return (vocab_to_int, int_to_vocab)\n",
    "\n",
    "\n",
    "\"\"\"\n",
    "DON'T MODIFY ANYTHING IN THIS CELL THAT IS BELOW THIS LINE\n",
    "\"\"\"\n",
    "tests.test_create_lookup_tables(create_lookup_tables)"
   ]
  },
  {
   "cell_type": "markdown",
   "metadata": {},
   "source": [
    "### Tokenize Punctuation\n",
    "Nós dividiremos o script em uma matriz de palavras usando espaços como delimitadores. No entanto, pontuações como períodos e pontos de exclamação tornam difícil para a rede neural distinguir entre a palavra \"bye\" e \"bye!\".\n",
    "\n",
    "Implemente a função `token_lookup` para retornar um comando que será usado para simbolizar símbolos como\"! \" em \"|| Exclamation_Mark ||\". Crie um dicionário para os seguintes símbolos, onde o símbolo é a chave e o valor é o token:\n",
    "- Período (.)\n",
    "- vírgula (,)\n",
    "- Aspa ( \" )\n",
    "- ponto e vírgula (;)\n",
    "- Ponto de exclamação ( ! )\n",
    "- Ponto de interrogação ( ? )\n",
    "- Parênteses esquerdos (()\n",
    "- Parênteses direitos ())\n",
    "- traço (-)\n",
    "- retorno (\\ n)\n",
    "\n",
    "Este dicionário será usado para simbolizar os símbolos e adicionar o delimitador (espaço) em torno dele. Isso separa os símbolos como sua própria palavra, facilitando a previsão da rede neural na próxima palavra. Certifique-se de não usar um token que possa ser confundido como uma palavra. Em vez de usar o token \"dash\", tente usar algo como \"|| dash ||\"."
   ]
  },
  {
   "cell_type": "code",
   "execution_count": 4,
   "metadata": {},
   "outputs": [
    {
     "name": "stdout",
     "output_type": "stream",
     "text": [
      "Tests Passed\n"
     ]
    }
   ],
   "source": [
    "def token_lookup():\n",
    "    \"\"\"\n",
    "    Generate a dict to turn punctuation into a token.\n",
    "    :return: Tokenize dictionary where the key is the punctuation and the value is the token\n",
    "    \"\"\"\n",
    "    # TODO: Implement Function\n",
    "    return {\n",
    "        '.':  '<period>',\n",
    "        ',':  '<comma>',\n",
    "        '\"':  '<quotation_mark>',\n",
    "        ';':  '<semicolon>',\n",
    "        '!':  '<exclamation_mark>',\n",
    "        '?':  '<period>',\n",
    "        '(':  '<left_parenthesis>',\n",
    "        ')':  '<right_parenthesis>',\n",
    "        '--': '<double_hyphen>',\n",
    "        '\\n': '<newline>'\n",
    "    }\n",
    "\n",
    "\"\"\"\n",
    "DON'T MODIFY ANYTHING IN THIS CELL THAT IS BELOW THIS LINE\n",
    "\"\"\"\n",
    "tests.test_tokenize(token_lookup)"
   ]
  },
  {
   "cell_type": "markdown",
   "metadata": {},
   "source": [
    "## Pré-processe todos os dados e salve-os\n",
    "Executar a célula de código abaixo irá pré-processar todos os dados e salvá-los em um arquivo"
   ]
  },
  {
   "cell_type": "code",
   "execution_count": 5,
   "metadata": {
    "collapsed": true
   },
   "outputs": [],
   "source": [
    "\"\"\"\n",
    "DON'T MODIFY ANYTHING IN THIS CELL\n",
    "\"\"\"\n",
    "# Preprocess Training, Validation, and Testing Data\n",
    "helper.preprocess_and_save_data(data_dir, token_lookup, create_lookup_tables)"
   ]
  },
  {
   "cell_type": "markdown",
   "metadata": {},
   "source": [
    "# Check Point\n",
    "Este é seu primeiro checkpoint. Se você decidir voltar a este notebook ou precisar reiniciar o notebook, poderá começar a partir daqui. Os dados pré-processados foram salvos no disco."
   ]
  },
  {
   "cell_type": "code",
   "execution_count": 6,
   "metadata": {
    "collapsed": true
   },
   "outputs": [],
   "source": [
    "\"\"\"\n",
    "DON'T MODIFY ANYTHING IN THIS CELL\n",
    "\"\"\"\n",
    "import helper\n",
    "import numpy as np\n",
    "import problem_unittests as tests\n",
    "\n",
    "int_text, vocab_to_int, int_to_vocab, token_dict = helper.load_preprocess()"
   ]
  },
  {
   "cell_type": "markdown",
   "metadata": {},
   "source": [
    "## Construa a Rede Neural\n",
    "Você construirá os componentes necessários para construir um RNN implementando as seguintes funções abaixo:\n",
    "- get_inputs\n",
    "- get_init_cell\n",
    "- get_embed\n",
    "- build_rnn\n",
    "- build_nn\n",
    "- get_batches\n",
    "\n",
    "### Verifique a versão do TensorFlow e acesse o GPU"
   ]
  },
  {
   "cell_type": "code",
   "execution_count": 16,
   "metadata": {},
   "outputs": [
    {
     "name": "stdout",
     "output_type": "stream",
     "text": [
      "TensorFlow Version: 1.0.0\n"
     ]
    },
    {
     "name": "stderr",
     "output_type": "stream",
     "text": [
      "/home/marcus/miniconda3/envs/dog-project/lib/python3.6/site-packages/ipykernel_launcher.py:14: UserWarning: No GPU found. Please use a GPU to train your neural network.\n",
      "  \n"
     ]
    }
   ],
   "source": [
    "\"\"\"\n",
    "DON'T MODIFY ANYTHING IN THIS CELL\n",
    "\"\"\"\n",
    "from distutils.version import LooseVersion\n",
    "import warnings\n",
    "import tensorflow as tf\n",
    "\n",
    "# Check TensorFlow Version\n",
    "assert LooseVersion(tf.__version__) <= LooseVersion('1.3'), 'Please use TensorFlow version 1.3 or newer'\n",
    "print('TensorFlow Version: {}'.format(tf.__version__))\n",
    "\n",
    "# Check for a GPU\n",
    "if not tf.test.gpu_device_name():\n",
    "    warnings.warn('No GPU found. Please use a GPU to train your neural network.')\n",
    "else:\n",
    "    print('Default GPU Device: {}'.format(tf.test.gpu_device_name()))"
   ]
  },
  {
   "cell_type": "markdown",
   "metadata": {},
   "source": [
    "### Input\n",
    "Implemente a função `get_inputs ()` para criar Placeholders do TF para a Rede Neural. Deve criar os seguintes marcadores de posição:\n",
    "- Espaço reservado para texto de entrada chamado \"entrada\" usando o [TF Placeholder](https://www.tensorflow.org/api_docs/python/tf/placeholder) parâmetro `name`.\n",
    "- Espaço reservado para alvos\n",
    "- Espaço reservado para Learning Rate\n",
    "\n",
    "Retorna os placeholders na seguinte tupla `(Input, Targets, LearningRate)`"
   ]
  },
  {
   "cell_type": "code",
   "execution_count": 17,
   "metadata": {},
   "outputs": [
    {
     "name": "stdout",
     "output_type": "stream",
     "text": [
      "Tests Passed\n"
     ]
    }
   ],
   "source": [
    "def get_inputs():\n",
    "    \"\"\"\n",
    "    Create TF Placeholders for input, targets, and learning rate.\n",
    "    :return: Tuple (input, targets, learning rate)\n",
    "    \"\"\"\n",
    "    # TODO: Implement Function\n",
    "    input_ = tf.placeholder(tf.int32, shape=[None, None], name='input')\n",
    "    targets_ = tf.placeholder(tf.int32, shape=[None, None], name='targets')\n",
    "    learning_rate_ = tf.placeholder(tf.float32, name='learning_rate')\n",
    "    return (input_, targets_, learning_rate_)\n",
    "\n",
    "\n",
    "\"\"\"\n",
    "DON'T MODIFY ANYTHING IN THIS CELL THAT IS BELOW THIS LINE\n",
    "\"\"\"\n",
    "tests.test_get_inputs(get_inputs)"
   ]
  },
  {
   "cell_type": "markdown",
   "metadata": {},
   "source": [
    "### Construa uma célula RNN e inicialize\n",
    "Empilhe um ou mais [`BasicLSTMCells`](https://www.tensorflow.org/api_docs/python/tf/contrib/rnn/BasicLSTMCell) in a [`MultiRNNCell`](https://www.tensorflow.org/api_docs/python/tf/contrib/rnn/MultiRNNCell).\n",
    "- O tamanho do Rnn deve ser definido usando `rnn_size`\n",
    "- Inicialize o estado da célula usando o MultiRNNCell [`zero_state ()`](https://www.tensorflow.org/api_docs/python/tf/contrib/rnn/MultiRNNCell#zero_state) function\n",
    "    - Apply the name \"initial_state\" to the initial state using [`tf.identity()`](https://www.tensorflow.org/api_docs/python/tf/identity)\n",
    "\n",
    "Retorna a célula e o estado inicial na seguinte tupla `(Cell, InitialState)`"
   ]
  },
  {
   "cell_type": "code",
   "execution_count": 18,
   "metadata": {},
   "outputs": [
    {
     "name": "stdout",
     "output_type": "stream",
     "text": [
      "Tests Passed\n"
     ]
    }
   ],
   "source": [
    "def get_init_cell(batch_size, rnn_size):\n",
    "    \"\"\"\n",
    "    Create an RNN Cell and initialize it.\n",
    "    :param batch_size: Size of batches\n",
    "    :param rnn_size: Size of RNNs\n",
    "    :return: Tuple (cell, initialize state)\n",
    "    \"\"\"\n",
    "    num_layers = 2\n",
    "    lstm = tf.contrib.rnn.BasicLSTMCell(rnn_size)\n",
    "    cell = tf.contrib.rnn.MultiRNNCell([lstm] * num_layers)\n",
    "    initial_state = cell.zero_state(batch_size, tf.float32)\n",
    "    initial_state = tf.identity(initial_state, name='initial_state')\n",
    "    return (cell, initial_state)\n",
    "\n",
    "\n",
    "\"\"\"\n",
    "DON'T MODIFY ANYTHING IN THIS CELL THAT IS BELOW THIS LINE\n",
    "\"\"\"\n",
    "tests.test_get_init_cell(get_init_cell)"
   ]
  },
  {
   "cell_type": "markdown",
   "metadata": {},
   "source": [
    "### Incorporação de Palavras\n",
    "Aplique a incorporação ao `input_data` usando o TensorFlow. Devolva a sequência incorporada."
   ]
  },
  {
   "cell_type": "code",
   "execution_count": 19,
   "metadata": {},
   "outputs": [
    {
     "name": "stdout",
     "output_type": "stream",
     "text": [
      "Tests Passed\n"
     ]
    }
   ],
   "source": [
    "def get_embed(input_data, vocab_size, embed_dim):\n",
    "    \"\"\"\n",
    "    Create embedding for <input_data>.\n",
    "    :param input_data: TF placeholder for text input.\n",
    "    :param vocab_size: Number of words in vocabulary.\n",
    "    :param embed_dim: Number of embedding dimensions\n",
    "    :return: Embedded input.\n",
    "    \"\"\"\n",
    "    # TODO: Implement Function\n",
    "    embedding = tf.Variable(tf.random_uniform((vocab_size, embed_dim), -1, 1))\n",
    "    embed = tf.nn.embedding_lookup(embedding, input_data)\n",
    "    return embed\n",
    "\n",
    "\n",
    "\"\"\"\n",
    "DON'T MODIFY ANYTHING IN THIS CELL THAT IS BELOW THIS LINE\n",
    "\"\"\"\n",
    "tests.test_get_embed(get_embed)"
   ]
  },
  {
   "cell_type": "markdown",
   "metadata": {},
   "source": [
    "### Build RNN\n",
    "YVocê criou uma célula RNN na função `get_init_cell ()`. Hora de usar a célula para criar um RNN.\n",
    "- Construa o RNN usando o [`tf.nn.dynamic_rnn()`](https://www.tensorflow.org/api_docs/python/tf/nn/dynamic_rnn)\n",
    "- Aplique o nome \"final_state\" ao estado final usando [`tf.identity()`](https://www.tensorflow.org/api_docs/python/tf/identity)\n",
    "\n",
    "Retorna as saídas e o estado final_state na seguinte tupla `(Saídas, FinalState)`"
   ]
  },
  {
   "cell_type": "code",
   "execution_count": 20,
   "metadata": {},
   "outputs": [
    {
     "name": "stdout",
     "output_type": "stream",
     "text": [
      "Tests Passed\n"
     ]
    }
   ],
   "source": [
    "def build_rnn(cell, inputs):\n",
    "    \"\"\"\n",
    "    Create a RNN using a RNN Cell\n",
    "    :param cell: RNN Cell\n",
    "    :param inputs: Input text data\n",
    "    :return: Tuple (Outputs, Final State)\n",
    "    \"\"\"\n",
    "    # TODO: Implement Function\n",
    "    outputs, final_state = tf.nn.dynamic_rnn(cell, inputs, dtype=tf.float32)\n",
    "    final_state = tf.identity(final_state, name='final_state')\n",
    "    return (outputs, final_state)\n",
    "\n",
    "\n",
    "\"\"\"\n",
    "DON'T MODIFY ANYTHING IN THIS CELL THAT IS BELOW THIS LINE\n",
    "\"\"\"\n",
    "tests.test_build_rnn(build_rnn)"
   ]
  },
  {
   "cell_type": "markdown",
   "metadata": {},
   "source": [
    "### Construa a Rede Neural\n",
    "Aplique as funções implementadas acima para:\n",
    "- Aplicar incorporação ao `input_data` usando sua função` get_embed (input_data, vocab_size, embed_dim) `.\n",
    "- Construa RNN usando `cell` e sua função` build_rnn (cell, inputs) `.\n",
    "- Aplique uma camada totalmente conectada com uma ativação linear e `vocab_size` como o número de saídas.\n",
    "\n",
    "Retorna os logits e o estado final na seguinte tupla (Logits, FinalState)"
   ]
  },
  {
   "cell_type": "code",
   "execution_count": 12,
   "metadata": {},
   "outputs": [
    {
     "name": "stdout",
     "output_type": "stream",
     "text": [
      "Tests Passed\n"
     ]
    }
   ],
   "source": [
    "def build_nn(cell, rnn_size, input_data, vocab_size, embed_dim):\n",
    "    \"\"\"\n",
    "    Build part of the neural network\n",
    "    :param cell: RNN cell\n",
    "    :param rnn_size: Size of rnns\n",
    "    :param input_data: Input data\n",
    "    :param vocab_size: Vocabulary size\n",
    "    :param embed_dim: Number of embedding dimensions\n",
    "    :return: Tuple (Logits, FinalState)\n",
    "    \"\"\"\n",
    "    # TODO: Implement Function\n",
    "    embedding_layer = get_embed(input_data, vocab_size, embed_dim)\n",
    "    (outputs, final_state) = build_rnn(cell, embedding_layer)\n",
    "    logits = tf.layers.dense(outputs, vocab_size, activation= None, use_bias=True)\n",
    "    return (logits, final_state)\n",
    "\n",
    "\n",
    "\"\"\"\n",
    "DON'T MODIFY ANYTHING IN THIS CELL THAT IS BELOW THIS LINE\n",
    "\"\"\"\n",
    "tests.test_build_nn(build_nn)"
   ]
  },
  {
   "cell_type": "markdown",
   "metadata": {},
   "source": [
    "### Lotes\n",
    "Implemente `get_batches` para criar lotes de entrada e destinos usando` int_text`. Os lotes devem ser um array Numpy com a forma `(número de lotes, 2, tamanho do lote, comprimento da seqüência)`. Cada lote contém dois elementos:\n",
    "- O primeiro elemento é um único lote de ** entrada ** com a forma `[tamanho do lote, comprimento da sequência]`\n",
    "- O segundo elemento é um único lote de ** destinos ** com a forma `[tamanho do lote, comprimento da sequência]`\n",
    "\n",
    "Se você não puder preencher o último lote com dados suficientes, elimine o último lote.\n",
    "\n",
    "Por exemplo, `get_batches ([1, 2, 3, 4, 5, 6, 7, 8, 9, 10, 11, 12, 13, 14, 15, 16, 17, 18, 19, 20], 3, 2) `retornaria uma matriz Numpy dos seguintes:\n",
    "```\n",
    "[\n",
    "  # First Batch\n",
    "  [\n",
    "    # Batch of Input\n",
    "    [[ 1  2], [ 7  8], [13 14]]\n",
    "    # Batch of targets\n",
    "    [[ 2  3], [ 8  9], [14 15]]\n",
    "  ]\n",
    "\n",
    "  # Second Batch\n",
    "  [\n",
    "    # Batch of Input\n",
    "    [[ 3  4], [ 9 10], [15 16]]\n",
    "    # Batch of targets\n",
    "    [[ 4  5], [10 11], [16 17]]\n",
    "  ]\n",
    "\n",
    "  # Third Batch\n",
    "  [\n",
    "    # Batch of Input\n",
    "    [[ 5  6], [11 12], [17 18]]\n",
    "    # Batch of targets\n",
    "    [[ 6  7], [12 13], [18  1]]\n",
    "  ]\n",
    "]\n",
    "```\n",
    "\n",
    "Observe que o último valor de destino no último lote é o primeiro valor de entrada do primeiro lote. Neste caso, `1`. Essa é uma técnica comum usada na criação de lotes de sequências, embora não seja muito intuitiva:"
   ]
  },
  {
   "cell_type": "code",
   "execution_count": 13,
   "metadata": {},
   "outputs": [
    {
     "name": "stdout",
     "output_type": "stream",
     "text": [
      "Tests Passed\n"
     ]
    }
   ],
   "source": [
    "import math\n",
    "def get_batches(int_text, batch_size, seq_length):\n",
    "    \"\"\"\n",
    "    Return batches of input and target\n",
    "    :param int_text: Text with the words replaced by their ids\n",
    "    :param batch_size: The size of batch\n",
    "    :param seq_length: The length of sequence\n",
    "    :return: Batches as a Numpy array\n",
    "    \"\"\"\n",
    "    # TODO: Implement Function\n",
    "    # Calculate the number of batches\n",
    "    num_batches = len(int_text) // (batch_size  * seq_length)\n",
    "    # Drop long batches. Transform into a numpy array and reshape it for our purposes\n",
    "    np_text = np.array(int_text[:num_batches * (batch_size  * seq_length)])\n",
    "    # Reshape the data to give us the inputs sequence.\n",
    "    in_text = np_text.reshape(-1, seq_length)\n",
    "    # Roll (shift) and reshape to get target sequences (maybe not optimal)\n",
    "    tar_text = np.roll(np_text, -1).reshape(-1, seq_length)\n",
    "    output = np.zeros(shape=(num_batches, 2, batch_size, seq_length), dtype=np.int)\n",
    "    # Prepare the output\n",
    "    for idx in range(0, in_text.shape[0]):\n",
    "        jj = idx % num_batches\n",
    "        ii = idx // num_batches\n",
    "        output[jj,0,ii,:] = in_text[idx,:]\n",
    "        output[jj,1,ii,:] = tar_text[idx,:]\n",
    "    return output\n",
    "\n",
    "\n",
    "\"\"\"\n",
    "DON'T MODIFY ANYTHING IN THIS CELL THAT IS BELOW THIS LINE\n",
    "\"\"\"\n",
    "tests.test_get_batches(get_batches)"
   ]
  },
  {
   "cell_type": "markdown",
   "metadata": {},
   "source": [
    "## Treinamento em Redes Neurais\n",
    "### Hyperparameters\n",
    "Ajuste os seguintes parâmetros:\n",
    "\n",
    "- Defina `num_epochs` como o número de épocas.\n",
    "- Configure `batch_size` para o tamanho do lote.\n",
    "- Defina `rnn_size` para o tamanho dos RNNs.\n",
    "- Configure `embed_dim` para o tamanho da incorporação.\n",
    "- Defina `seq_length` como o comprimento da sequência.\n",
    "- Configure `learning_rate` para a taxa de aprendizado.\n",
    "- Defina `show_every_n_batches` com o número de lotes que a rede neural deve imprimir."
   ]
  },
  {
   "cell_type": "code",
   "execution_count": 16,
   "metadata": {
    "collapsed": true
   },
   "outputs": [],
   "source": [
    "# Number of Epochs\n",
    "num_epochs = 35\n",
    "# Batch Size\n",
    "batch_size = 128\n",
    "# RNN Size\n",
    "rnn_size = 256\n",
    "# Sequence Length\n",
    "seq_length = 12\n",
    "# Learning Rate\n",
    "learning_rate = 0.01\n",
    "# Show stats for every n number of batches\n",
    "show_every_n_batches = 10\n",
    "\n",
    "\"\"\"\n",
    "DON'T MODIFY ANYTHING IN THIS CELL THAT IS BELOW THIS LINE\n",
    "\"\"\"\n",
    "save_dir = './save'"
   ]
  },
  {
   "cell_type": "markdown",
   "metadata": {},
   "source": [
    "### Construir o gráfico\n",
    "Construa o gráfico usando a rede neural que você implementou."
   ]
  },
  {
   "cell_type": "code",
   "execution_count": 17,
   "metadata": {},
   "outputs": [
    {
     "ename": "NameError",
     "evalue": "name 'embed_dim' is not defined",
     "output_type": "error",
     "traceback": [
      "\u001b[0;31m---------------------------------------------------------------------------\u001b[0m",
      "\u001b[0;31mNameError\u001b[0m                                 Traceback (most recent call last)",
      "\u001b[0;32m<ipython-input-17-bd6cb88aaa1a>\u001b[0m in \u001b[0;36m<module>\u001b[0;34m()\u001b[0m\n\u001b[1;32m     10\u001b[0m     \u001b[0minput_data_shape\u001b[0m \u001b[0;34m=\u001b[0m \u001b[0mtf\u001b[0m\u001b[0;34m.\u001b[0m\u001b[0mshape\u001b[0m\u001b[0;34m(\u001b[0m\u001b[0minput_text\u001b[0m\u001b[0;34m)\u001b[0m\u001b[0;34m\u001b[0m\u001b[0m\n\u001b[1;32m     11\u001b[0m     \u001b[0mcell\u001b[0m\u001b[0;34m,\u001b[0m \u001b[0minitial_state\u001b[0m \u001b[0;34m=\u001b[0m \u001b[0mget_init_cell\u001b[0m\u001b[0;34m(\u001b[0m\u001b[0minput_data_shape\u001b[0m\u001b[0;34m[\u001b[0m\u001b[0;36m0\u001b[0m\u001b[0;34m]\u001b[0m\u001b[0;34m,\u001b[0m \u001b[0mrnn_size\u001b[0m\u001b[0;34m)\u001b[0m\u001b[0;34m\u001b[0m\u001b[0m\n\u001b[0;32m---> 12\u001b[0;31m     \u001b[0mlogits\u001b[0m\u001b[0;34m,\u001b[0m \u001b[0mfinal_state\u001b[0m \u001b[0;34m=\u001b[0m \u001b[0mbuild_nn\u001b[0m\u001b[0;34m(\u001b[0m\u001b[0mcell\u001b[0m\u001b[0;34m,\u001b[0m \u001b[0mrnn_size\u001b[0m\u001b[0;34m,\u001b[0m \u001b[0minput_text\u001b[0m\u001b[0;34m,\u001b[0m \u001b[0mvocab_size\u001b[0m\u001b[0;34m,\u001b[0m \u001b[0membed_dim\u001b[0m\u001b[0;34m)\u001b[0m\u001b[0;34m\u001b[0m\u001b[0m\n\u001b[0m\u001b[1;32m     13\u001b[0m \u001b[0;34m\u001b[0m\u001b[0m\n\u001b[1;32m     14\u001b[0m     \u001b[0;31m# Probabilities for generating words\u001b[0m\u001b[0;34m\u001b[0m\u001b[0;34m\u001b[0m\u001b[0m\n",
      "\u001b[0;31mNameError\u001b[0m: name 'embed_dim' is not defined"
     ]
    }
   ],
   "source": [
    "\"\"\"\n",
    "DON'T MODIFY ANYTHING IN THIS CELL\n",
    "\"\"\"\n",
    "from tensorflow.contrib import seq2seq\n",
    "\n",
    "train_graph = tf.Graph()\n",
    "with train_graph.as_default():\n",
    "    vocab_size = len(int_to_vocab)\n",
    "    input_text, targets, lr = get_inputs()\n",
    "    input_data_shape = tf.shape(input_text)\n",
    "    cell, initial_state = get_init_cell(input_data_shape[0], rnn_size)\n",
    "    logits, final_state = build_nn(cell, rnn_size, input_text, vocab_size, embed_dim)\n",
    "\n",
    "    # Probabilities for generating words\n",
    "    probs = tf.nn.softmax(logits, name='probs')\n",
    "\n",
    "    # Loss function\n",
    "    cost = seq2seq.sequence_loss(\n",
    "        logits,\n",
    "        targets,\n",
    "        tf.ones([input_data_shape[0], input_data_shape[1]]))\n",
    "\n",
    "    # Optimizer\n",
    "    optimizer = tf.train.AdamOptimizer(lr)\n",
    "\n",
    "    # Gradient Clipping\n",
    "    gradients = optimizer.compute_gradients(cost)\n",
    "    capped_gradients = [(tf.clip_by_value(grad, -1., 1.), var) for grad, var in gradients if grad is not None]\n",
    "    train_op = optimizer.apply_gradients(capped_gradients)"
   ]
  },
  {
   "cell_type": "markdown",
   "metadata": {},
   "source": [
    "## Train\n",
    "Treine a rede neural nos dados pré-processados. Se você tiver dificuldade em obter uma boa perda, verifique os [fóruns] (https://discussions.udacity.com/) para ver se alguém está tendo o mesmo problema."
   ]
  },
  {
   "cell_type": "code",
   "execution_count": 22,
   "metadata": {},
   "outputs": [
    {
     "name": "stdout",
     "output_type": "stream",
     "text": [
      "Epoch   0 Batch    0/44   train_loss = 8.821\n",
      "Epoch   0 Batch   10/44   train_loss = 6.795\n",
      "Epoch   0 Batch   20/44   train_loss = 6.163\n",
      "Epoch   0 Batch   30/44   train_loss = 6.088\n",
      "Epoch   0 Batch   40/44   train_loss = 5.870\n",
      "Epoch   1 Batch    6/44   train_loss = 5.505\n",
      "Epoch   1 Batch   16/44   train_loss = 5.426\n",
      "Epoch   1 Batch   26/44   train_loss = 5.216\n",
      "Epoch   1 Batch   36/44   train_loss = 5.207\n",
      "Epoch   2 Batch    2/44   train_loss = 4.847\n",
      "Epoch   2 Batch   12/44   train_loss = 4.925\n",
      "Epoch   2 Batch   22/44   train_loss = 4.940\n",
      "Epoch   2 Batch   32/44   train_loss = 4.822\n",
      "Epoch   2 Batch   42/44   train_loss = 4.829\n",
      "Epoch   3 Batch    8/44   train_loss = 4.707\n",
      "Epoch   3 Batch   18/44   train_loss = 4.722\n",
      "Epoch   3 Batch   28/44   train_loss = 4.717\n",
      "Epoch   3 Batch   38/44   train_loss = 4.589\n",
      "Epoch   4 Batch    4/44   train_loss = 4.535\n",
      "Epoch   4 Batch   14/44   train_loss = 4.700\n",
      "Epoch   4 Batch   24/44   train_loss = 4.503\n",
      "Epoch   4 Batch   34/44   train_loss = 4.480\n",
      "Epoch   5 Batch    0/44   train_loss = 4.347\n",
      "Epoch   5 Batch   10/44   train_loss = 4.464\n",
      "Epoch   5 Batch   20/44   train_loss = 4.301\n",
      "Epoch   5 Batch   30/44   train_loss = 4.422\n",
      "Epoch   5 Batch   40/44   train_loss = 4.341\n",
      "Epoch   6 Batch    6/44   train_loss = 4.220\n",
      "Epoch   6 Batch   16/44   train_loss = 4.240\n",
      "Epoch   6 Batch   26/44   train_loss = 4.102\n",
      "Epoch   6 Batch   36/44   train_loss = 4.234\n",
      "Epoch   7 Batch    2/44   train_loss = 3.980\n",
      "Epoch   7 Batch   12/44   train_loss = 4.016\n",
      "Epoch   7 Batch   22/44   train_loss = 4.008\n",
      "Epoch   7 Batch   32/44   train_loss = 3.940\n",
      "Epoch   7 Batch   42/44   train_loss = 3.928\n",
      "Epoch   8 Batch    8/44   train_loss = 3.935\n",
      "Epoch   8 Batch   18/44   train_loss = 3.895\n",
      "Epoch   8 Batch   28/44   train_loss = 3.826\n",
      "Epoch   8 Batch   38/44   train_loss = 3.828\n",
      "Epoch   9 Batch    4/44   train_loss = 3.703\n",
      "Epoch   9 Batch   14/44   train_loss = 3.807\n",
      "Epoch   9 Batch   24/44   train_loss = 3.623\n",
      "Epoch   9 Batch   34/44   train_loss = 3.641\n",
      "Epoch  10 Batch    0/44   train_loss = 3.575\n",
      "Epoch  10 Batch   10/44   train_loss = 3.657\n",
      "Epoch  10 Batch   20/44   train_loss = 3.494\n",
      "Epoch  10 Batch   30/44   train_loss = 3.549\n",
      "Epoch  10 Batch   40/44   train_loss = 3.502\n",
      "Epoch  11 Batch    6/44   train_loss = 3.456\n",
      "Epoch  11 Batch   16/44   train_loss = 3.463\n",
      "Epoch  11 Batch   26/44   train_loss = 3.281\n",
      "Epoch  11 Batch   36/44   train_loss = 3.450\n",
      "Epoch  12 Batch    2/44   train_loss = 3.324\n",
      "Epoch  12 Batch   12/44   train_loss = 3.250\n",
      "Epoch  12 Batch   22/44   train_loss = 3.284\n",
      "Epoch  12 Batch   32/44   train_loss = 3.143\n",
      "Epoch  12 Batch   42/44   train_loss = 3.106\n",
      "Epoch  13 Batch    8/44   train_loss = 3.176\n",
      "Epoch  13 Batch   18/44   train_loss = 3.163\n",
      "Epoch  13 Batch   28/44   train_loss = 3.030\n",
      "Epoch  13 Batch   38/44   train_loss = 3.026\n",
      "Epoch  14 Batch    4/44   train_loss = 3.017\n",
      "Epoch  14 Batch   14/44   train_loss = 2.988\n",
      "Epoch  14 Batch   24/44   train_loss = 2.808\n",
      "Epoch  14 Batch   34/44   train_loss = 2.900\n",
      "Epoch  15 Batch    0/44   train_loss = 2.837\n",
      "Epoch  15 Batch   10/44   train_loss = 2.884\n",
      "Epoch  15 Batch   20/44   train_loss = 2.762\n",
      "Epoch  15 Batch   30/44   train_loss = 2.813\n",
      "Epoch  15 Batch   40/44   train_loss = 2.766\n",
      "Epoch  16 Batch    6/44   train_loss = 2.770\n",
      "Epoch  16 Batch   16/44   train_loss = 2.682\n",
      "Epoch  16 Batch   26/44   train_loss = 2.567\n",
      "Epoch  16 Batch   36/44   train_loss = 2.766\n",
      "Epoch  17 Batch    2/44   train_loss = 2.702\n",
      "Epoch  17 Batch   12/44   train_loss = 2.654\n",
      "Epoch  17 Batch   22/44   train_loss = 2.585\n",
      "Epoch  17 Batch   32/44   train_loss = 2.486\n",
      "Epoch  17 Batch   42/44   train_loss = 2.464\n",
      "Epoch  18 Batch    8/44   train_loss = 2.502\n",
      "Epoch  18 Batch   18/44   train_loss = 2.540\n",
      "Epoch  18 Batch   28/44   train_loss = 2.372\n",
      "Epoch  18 Batch   38/44   train_loss = 2.387\n",
      "Epoch  19 Batch    4/44   train_loss = 2.454\n",
      "Epoch  19 Batch   14/44   train_loss = 2.382\n",
      "Epoch  19 Batch   24/44   train_loss = 2.263\n",
      "Epoch  19 Batch   34/44   train_loss = 2.281\n",
      "Epoch  20 Batch    0/44   train_loss = 2.300\n",
      "Epoch  20 Batch   10/44   train_loss = 2.359\n",
      "Epoch  20 Batch   20/44   train_loss = 2.194\n",
      "Epoch  20 Batch   30/44   train_loss = 2.208\n",
      "Epoch  20 Batch   40/44   train_loss = 2.236\n",
      "Epoch  21 Batch    6/44   train_loss = 2.221\n",
      "Epoch  21 Batch   16/44   train_loss = 2.160\n",
      "Epoch  21 Batch   26/44   train_loss = 2.020\n",
      "Epoch  21 Batch   36/44   train_loss = 2.215\n",
      "Epoch  22 Batch    2/44   train_loss = 2.146\n",
      "Epoch  22 Batch   12/44   train_loss = 2.166\n",
      "Epoch  22 Batch   22/44   train_loss = 2.076\n",
      "Epoch  22 Batch   32/44   train_loss = 2.001\n",
      "Epoch  22 Batch   42/44   train_loss = 1.949\n",
      "Epoch  23 Batch    8/44   train_loss = 2.011\n",
      "Epoch  23 Batch   18/44   train_loss = 2.025\n",
      "Epoch  23 Batch   28/44   train_loss = 1.852\n",
      "Epoch  23 Batch   38/44   train_loss = 1.872\n",
      "Epoch  24 Batch    4/44   train_loss = 1.961\n",
      "Epoch  24 Batch   14/44   train_loss = 1.899\n",
      "Epoch  24 Batch   24/44   train_loss = 1.785\n",
      "Epoch  24 Batch   34/44   train_loss = 1.799\n",
      "Epoch  25 Batch    0/44   train_loss = 1.823\n",
      "Epoch  25 Batch   10/44   train_loss = 1.880\n",
      "Epoch  25 Batch   20/44   train_loss = 1.757\n",
      "Epoch  25 Batch   30/44   train_loss = 1.743\n",
      "Epoch  25 Batch   40/44   train_loss = 1.780\n",
      "Epoch  26 Batch    6/44   train_loss = 1.729\n",
      "Epoch  26 Batch   16/44   train_loss = 1.720\n",
      "Epoch  26 Batch   26/44   train_loss = 1.652\n",
      "Epoch  26 Batch   36/44   train_loss = 1.773\n",
      "Epoch  27 Batch    2/44   train_loss = 1.720\n",
      "Epoch  27 Batch   12/44   train_loss = 1.760\n",
      "Epoch  27 Batch   22/44   train_loss = 1.651\n",
      "Epoch  27 Batch   32/44   train_loss = 1.611\n",
      "Epoch  27 Batch   42/44   train_loss = 1.543\n",
      "Epoch  28 Batch    8/44   train_loss = 1.624\n",
      "Epoch  28 Batch   18/44   train_loss = 1.708\n",
      "Epoch  28 Batch   28/44   train_loss = 1.509\n",
      "Epoch  28 Batch   38/44   train_loss = 1.512\n",
      "Epoch  29 Batch    4/44   train_loss = 1.601\n",
      "Epoch  29 Batch   14/44   train_loss = 1.511\n",
      "Epoch  29 Batch   24/44   train_loss = 1.449\n",
      "Epoch  29 Batch   34/44   train_loss = 1.502\n",
      "Epoch  30 Batch    0/44   train_loss = 1.506\n",
      "Epoch  30 Batch   10/44   train_loss = 1.529\n",
      "Epoch  30 Batch   20/44   train_loss = 1.513\n",
      "Epoch  30 Batch   30/44   train_loss = 1.454\n",
      "Epoch  30 Batch   40/44   train_loss = 1.432\n",
      "Epoch  31 Batch    6/44   train_loss = 1.426\n",
      "Epoch  31 Batch   16/44   train_loss = 1.437\n",
      "Epoch  31 Batch   26/44   train_loss = 1.399\n",
      "Epoch  31 Batch   36/44   train_loss = 1.458\n",
      "Epoch  32 Batch    2/44   train_loss = 1.402\n",
      "Epoch  32 Batch   12/44   train_loss = 1.453\n",
      "Epoch  32 Batch   22/44   train_loss = 1.396\n",
      "Epoch  32 Batch   32/44   train_loss = 1.376\n",
      "Epoch  32 Batch   42/44   train_loss = 1.301\n",
      "Epoch  33 Batch    8/44   train_loss = 1.304\n",
      "Epoch  33 Batch   18/44   train_loss = 1.405\n",
      "Epoch  33 Batch   28/44   train_loss = 1.246\n",
      "Epoch  33 Batch   38/44   train_loss = 1.286\n",
      "Epoch  34 Batch    4/44   train_loss = 1.291\n",
      "Epoch  34 Batch   14/44   train_loss = 1.206\n",
      "Epoch  34 Batch   24/44   train_loss = 1.218\n",
      "Epoch  34 Batch   34/44   train_loss = 1.272\n",
      "Model Trained and Saved\n"
     ]
    }
   ],
   "source": [
    "\"\"\"\n",
    "DON'T MODIFY ANYTHING IN THIS CELL\n",
    "\"\"\"\n",
    "batches = get_batches(int_text, batch_size, seq_length)\n",
    "\n",
    "with tf.Session(graph=train_graph) as sess:\n",
    "    sess.run(tf.global_variables_initializer())\n",
    "\n",
    "    for epoch_i in range(num_epochs):\n",
    "        state = sess.run(initial_state, {input_text: batches[0][0]})\n",
    "\n",
    "        for batch_i, (x, y) in enumerate(batches):\n",
    "            feed = {\n",
    "                input_text: x,\n",
    "                targets: y,\n",
    "                initial_state: state,\n",
    "                lr: learning_rate}\n",
    "            train_loss, state, _ = sess.run([cost, final_state, train_op], feed)\n",
    "\n",
    "            # Show every <show_every_n_batches> batches\n",
    "            if (epoch_i * len(batches) + batch_i) % show_every_n_batches == 0:\n",
    "                print('Epoch {:>3} Batch {:>4}/{}   train_loss = {:.3f}'.format(\n",
    "                    epoch_i,\n",
    "                    batch_i,\n",
    "                    len(batches),\n",
    "                    train_loss))\n",
    "\n",
    "    # Save Model\n",
    "    saver = tf.train.Saver()\n",
    "    saver.save(sess, save_dir)\n",
    "    print('Model Trained and Saved')"
   ]
  },
  {
   "cell_type": "markdown",
   "metadata": {},
   "source": [
    "## Save Parameters\n",
    "Salve `seq_length` e` save_dir` para gerar um novo script de TV."
   ]
  },
  {
   "cell_type": "code",
   "execution_count": 23,
   "metadata": {
    "collapsed": true
   },
   "outputs": [],
   "source": [
    "\"\"\"\n",
    "DON'T MODIFY ANYTHING IN THIS CELL\n",
    "\"\"\"\n",
    "# Save parameters for checkpoint\n",
    "helper.save_params((seq_length, save_dir))"
   ]
  },
  {
   "cell_type": "markdown",
   "metadata": {},
   "source": [
    "# Checkpoint"
   ]
  },
  {
   "cell_type": "code",
   "execution_count": 24,
   "metadata": {
    "collapsed": true
   },
   "outputs": [],
   "source": [
    "\"\"\"\n",
    "DON'T MODIFY ANYTHING IN THIS CELL\n",
    "\"\"\"\n",
    "import tensorflow as tf\n",
    "import numpy as np\n",
    "import helper\n",
    "import problem_unittests as tests\n",
    "\n",
    "_, vocab_to_int, int_to_vocab, token_dict = helper.load_preprocess()\n",
    "seq_length, load_dir = helper.load_params()"
   ]
  },
  {
   "cell_type": "markdown",
   "metadata": {},
   "source": [
    "## Implementar Gerar Funções\n",
    "### Obtenha Tensores\n",
    "Obtenha tensores de `loaded_graph` usando a função [` get_tensor_by_name () `] (https://www.tensorflow.org/api_docs/python/tf/Graph#get_tensor_by_name). Obtenha os tensores usando os seguintes nomes:\n",
    "- \"entrada: 0\"\n",
    "- \"initial_state: 0\"\n",
    "- \"final_state: 0\"\n",
    "- \"probs: 0\"\n",
    "\n",
    "Retorna os tensores na seguinte tupla `(InputTensor, InitialStateTensor, FinalStateTensor, ProbsTensor)`"
   ]
  },
  {
   "cell_type": "code",
   "execution_count": 25,
   "metadata": {},
   "outputs": [
    {
     "name": "stdout",
     "output_type": "stream",
     "text": [
      "Tests Passed\n"
     ]
    }
   ],
   "source": [
    "def get_tensors(loaded_graph):\n",
    "    \"\"\"\n",
    "    Get input, initial state, final state, and probabilities tensor from <loaded_graph>\n",
    "    :param loaded_graph: TensorFlow graph loaded from file\n",
    "    :return: Tuple (InputTensor, InitialStateTensor, FinalStateTensor, ProbsTensor)\n",
    "    \"\"\"\n",
    "    # TODO: Implement Function\n",
    "    InputTensor = loaded_graph.get_tensor_by_name('input:0')\n",
    "    InitialStateTensor = loaded_graph.get_tensor_by_name('initial_state:0')\n",
    "    FinalStateTensor = loaded_graph.get_tensor_by_name('final_state:0')\n",
    "    ProbsTensor = loaded_graph.get_tensor_by_name('probs:0')\n",
    "    \n",
    "    return (InputTensor, InitialStateTensor, FinalStateTensor, ProbsTensor)\n",
    "\n",
    "\n",
    "\"\"\"\n",
    "DON'T MODIFY ANYTHING IN THIS CELL THAT IS BELOW THIS LINE\n",
    "\"\"\"\n",
    "tests.test_get_tensors(get_tensors)"
   ]
  },
  {
   "cell_type": "markdown",
   "metadata": {},
   "source": [
    "### Escolher palavra\n",
    "Implemente a função `pick_word ()` para selecionar a próxima palavra usando `probabilities`."
   ]
  },
  {
   "cell_type": "code",
   "execution_count": 27,
   "metadata": {},
   "outputs": [
    {
     "name": "stdout",
     "output_type": "stream",
     "text": [
      "Tests Passed\n"
     ]
    }
   ],
   "source": [
    "def pick_word(probabilities, int_to_vocab):\n",
    "    \"\"\"\n",
    "    Pick the next word in the generated text\n",
    "    :param probabilities: Probabilites of the next word\n",
    "    :param int_to_vocab: Dictionary of word ids as the keys and words as the values\n",
    "    :return: String of the predicted word\n",
    "    \"\"\"\n",
    "    # TODO: Implement Function\n",
    "    indices      = np.argsort(-probabilities)\n",
    "    choice_probs = np.array([probabilities[idx] for idx in indices])\n",
    "    renormaized_probs = choice_probs / choice_probs.sum()\n",
    "\n",
    "    choice = np.random.choice(indices, p=renormaized_probs)\n",
    "\n",
    "    return int_to_vocab[choice]\n",
    "\n",
    "\n",
    "\"\"\"\n",
    "DON'T MODIFY ANYTHING IN THIS CELL THAT IS BELOW THIS LINE\n",
    "\"\"\"\n",
    "tests.test_pick_word(pick_word)"
   ]
  },
  {
   "cell_type": "markdown",
   "metadata": {},
   "source": [
    "## Gerar script de TV\n",
    "Isso irá gerar o script de TV para você. Defina `gen_length` com o comprimento do script de TV que você deseja gerar."
   ]
  },
  {
   "cell_type": "code",
   "execution_count": 28,
   "metadata": {},
   "outputs": [
    {
     "name": "stdout",
     "output_type": "stream",
     "text": [
      "INFO:tensorflow:Restoring parameters from ./save\n",
      "moe_szyslak:(annoyed) yeah, we can't let me clap her erasers.\n",
      "\n",
      "\n",
      "lenny_leonard: yeah, you guys are eurotrash, i'd like a spy.\n",
      "kemi: i didn't see nothin'.\n",
      "homer_simpson: moe. sorry we are all the store to get applesauce for maggie two hours of all. how did i had too much.\n",
      "laney_fontaine: so sweet.\n",
      "moe_szyslak: uh, if your wife was tough.\n",
      "bart_simpson: no. you're still talking to feel you on the house, right. it was before... going late.\n",
      "homer_simpson: come off, homer. hottest he brought a carl's company rascals.\n",
      "moe_szyslak: now, how do i have you a person it.\n",
      "homer_simpson: what's that.\n",
      "barney_gumble: i'm gonna catch you...\n",
      "homer_simpson: hey, moe! you called me to be my cyrano sack and they admit it.\n",
      "homer_simpson:(rolls dog) you're too late, so i can liven it up.\n",
      "moe_szyslak: how much you get over now.\n",
      "harv: we hope she works.\n",
      "moe_szyslak: really\n"
     ]
    }
   ],
   "source": [
    "gen_length = 200\n",
    "# homer_simpson, moe_szyslak, or Barney_Gumble\n",
    "prime_word = 'moe_szyslak'\n",
    "\n",
    "\"\"\"\n",
    "DON'T MODIFY ANYTHING IN THIS CELL THAT IS BELOW THIS LINE\n",
    "\"\"\"\n",
    "loaded_graph = tf.Graph()\n",
    "with tf.Session(graph=loaded_graph) as sess:\n",
    "    # Load saved model\n",
    "    loader = tf.train.import_meta_graph(load_dir + '.meta')\n",
    "    loader.restore(sess, load_dir)\n",
    "\n",
    "    # Get Tensors from loaded model\n",
    "    input_text, initial_state, final_state, probs = get_tensors(loaded_graph)\n",
    "\n",
    "    # Sentences generation setup\n",
    "    gen_sentences = [prime_word + ':']\n",
    "    prev_state = sess.run(initial_state, {input_text: np.array([[1]])})\n",
    "\n",
    "    # Generate sentences\n",
    "    for n in range(gen_length):\n",
    "        # Dynamic Input\n",
    "        dyn_input = [[vocab_to_int[word] for word in gen_sentences[-seq_length:]]]\n",
    "        dyn_seq_length = len(dyn_input[0])\n",
    "\n",
    "        # Get Prediction\n",
    "        probabilities, prev_state = sess.run(\n",
    "            [probs, final_state],\n",
    "            {input_text: dyn_input, initial_state: prev_state})\n",
    "        \n",
    "        pred_word = pick_word(probabilities[0][dyn_seq_length-1], int_to_vocab)\n",
    "\n",
    "        gen_sentences.append(pred_word)\n",
    "    \n",
    "    # Remove tokens\n",
    "    tv_script = ' '.join(gen_sentences)\n",
    "    for key, token in token_dict.items():\n",
    "        ending = ' ' if key in ['\\n', '(', '\"'] else ''\n",
    "        tv_script = tv_script.replace(' ' + token.lower(), key)\n",
    "    tv_script = tv_script.replace('\\n ', '\\n')\n",
    "    tv_script = tv_script.replace('( ', '(')\n",
    "        \n",
    "    print(tv_script)"
   ]
  },
  {
   "cell_type": "markdown",
   "metadata": {},
   "source": [
    "# O roteiro de TV é absurdo\n",
    "Tudo bem se o roteiro da TV não fizer sentido. Nós treinamos com menos de um megabyte de texto. Para obter bons resultados, você terá que usar um vocabulário menor ou obter mais dados. Felizmente há mais dados! Como mencionamos no início deste projeto, este é um subconjunto de [outro conjunto de dados] (https://www.kaggle.com/wcukierski/the-simpsons-by-the-data). Nós não fizemos você treinar em todos os dados, porque isso levaria muito tempo. No entanto, você está livre para treinar sua rede neural em todos os dados. Depois de concluir o projeto, é claro.\n",
    "# Enviando este projeto\n",
    "Ao enviar este projeto, certifique-se de executar todas as células antes de salvar o bloco de anotações. Salve o arquivo do notebook como \"dlnd_tv_script_generation.ipynb\" e salve-o como um arquivo HTML em \"File\" -> \"Download as\". Inclua os arquivos \"helper.py\" e \"problem_unittests.py\" no seu envio."
   ]
  }
 ],
 "metadata": {
  "kernelspec": {
   "display_name": "Python 3",
   "language": "python",
   "name": "python3"
  },
  "language_info": {
   "codemirror_mode": {
    "name": "ipython",
    "version": 3
   },
   "file_extension": ".py",
   "mimetype": "text/x-python",
   "name": "python",
   "nbconvert_exporter": "python",
   "pygments_lexer": "ipython3",
   "version": "3.5.6"
  },
  "widgets": {
   "state": {},
   "version": "1.1.2"
  }
 },
 "nbformat": 4,
 "nbformat_minor": 1
}
